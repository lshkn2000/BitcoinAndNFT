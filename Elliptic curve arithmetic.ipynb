{
 "cells": [
  {
   "cell_type": "code",
   "execution_count": 1,
   "metadata": {},
   "outputs": [],
   "source": [
    "# 체 Field\n",
    "'''\n",
    "사칙 연산이 정의되는 집합\n",
    "원소의 개수가 유한개인 체 := 유한체\n",
    "'''"
   ]
  },
  {
   "cell_type": "code",
   "execution_count": 4,
   "metadata": {},
   "outputs": [],
   "source": [
    "# 유한체 (Finite Field)\n",
    "p = 7\n",
    "F_p = [i for i in range(p)]"
   ]
  },
  {
   "cell_type": "code",
   "execution_count": 67,
   "metadata": {},
   "outputs": [],
   "source": [
    "# 모듈러 연산(== 나머지 연산) \n",
    "def Modular(a:int, b:int, cal_op:['+', '-','/', '*'], mod:int):\n",
    "    if cal_op == '+':\n",
    "        result = (a + b) % mod\n",
    "    elif cal_op == '-':\n",
    "        result = (a - b) % mod\n",
    "    elif cal_op == '*':\n",
    "        result = (a * b) % mod\n",
    "    elif cal_op == '/':\n",
    "        for i in range(mod):\n",
    "            if (b * i) % mod == 1:\n",
    "                b = i\n",
    "                break        \n",
    "        result = (a * b) % mod\n",
    "    else:\n",
    "        raise Exception(\"연산기호가 맞지 않습니다. : '+', '-','/', '*' \")\n",
    "        \n",
    "    return result"
   ]
  },
  {
   "cell_type": "code",
   "execution_count": 19,
   "metadata": {},
   "outputs": [
    {
     "data": {
      "text/plain": [
       "2"
      ]
     },
     "execution_count": 19,
     "metadata": {},
     "output_type": "execute_result"
    }
   ],
   "source": [
    "Modular(3, 5, '/', 7)"
   ]
  },
  {
   "cell_type": "code",
   "execution_count": null,
   "metadata": {},
   "outputs": [],
   "source": [
    "##################################### Elliptic curve Modular Arithmethic ################################"
   ]
  },
  {
   "cell_type": "code",
   "execution_count": 27,
   "metadata": {},
   "outputs": [],
   "source": [
    "from typing import *"
   ]
  },
  {
   "cell_type": "code",
   "execution_count": 120,
   "metadata": {},
   "outputs": [],
   "source": [
    "def EllipticModular(P1:List, P2:List, cal_op:['neg', 'add','mul'], mod:int, a, b):\n",
    "    \"\"\"\n",
    "    P1, P2 := (x, y)\n",
    "    cal_op := ['neg', 'add','mul']\n",
    "        neg == negation \n",
    "            neg P = -P\n",
    "        add == addition \n",
    "            P1 + P2 = R\n",
    "        mul == scalar multiplication\n",
    "            scalr * P1\n",
    "    mod := int\n",
    "    y ** 2 = x ** 3 + a*x + b\n",
    "    4 * (a**3) + 27 * (b ** 2) != 0\n",
    "    \"\"\"\n",
    "    \n",
    "    assert (isinstance(P1, List)) \\\n",
    "            and (isinstance(P2, List) or P2 is None), \"P1 must be List and P2 must be List or None\" \n",
    "    \n",
    "    assert 4 * (a**3) + 27 * (b ** 2) != 0, 'Avoid Crossing in Elliptic!'\n",
    "    \n",
    "    if cal_op == 'add':\n",
    "        s = Modular((P2[1] - P1[1]), (P2[0] - P1[0]), '/', mod)\n",
    "        xr = Modular(s ** 2 - P1[0], P2[0], '-', mod)\n",
    "        yr = Modular(s * (P1[0] - xr), P1[1], '-', mod)\n",
    "        result = (xr, yr)\n",
    "\n",
    "    elif cal_op == 'mul':\n",
    "        scalar = int(input(\"Scalar : \"))\n",
    "        assert isinstance(scalar, int), \"scalar must be positive int !\"\n",
    "        if scalar == 2:\n",
    "            s = Modular((3*(P1[0] ** 2) + a), (2 * P1[1]), '/', mod)\n",
    "            xr = Modular(s ** 2, 2*P1[0], '-', mod)\n",
    "            yr = Modular(s * (P1[0] - xr), P1[1], '-', mod)\n",
    "            result = (xr, yr)\n",
    "        else:\n",
    "            s = Modular((3*(P1[0] ** 2) + a), (2 * P1[1]), '/', mod)\n",
    "            xr = Modular(s ** 2, 2*P1[0], '-', mod)\n",
    "            yr = Modular(s * (P1[0] - xr), P1[1], '-', mod)\n",
    "            P_ = [xr, yr]\n",
    "            for i in range(1, scalar - 1):\n",
    "                s = Modular(P1[1] - P_[1], P1[0] - P_[0], '/', mod)\n",
    "                xr = Modular(s ** 2 - P1[0], P_[0], '-', mod)\n",
    "                yr = Modular(s * (P1[0] - xr), P1[1], '-', mod)\n",
    "                P_ = [xr, yr]\n",
    "            result = (P_[0], P_[1])\n",
    "    else:\n",
    "        raise Exception(\"연산기호가 맞지 않습니다. : ['neg', 'add','mul'] \")\n",
    "        \n",
    "    return result"
   ]
  },
  {
   "cell_type": "code",
   "execution_count": 121,
   "metadata": {},
   "outputs": [
    {
     "name": "stdout",
     "output_type": "stream",
     "text": [
      "Scalar : 3\n"
     ]
    },
    {
     "data": {
      "text/plain": [
       "(8, 3)"
      ]
     },
     "execution_count": 121,
     "metadata": {},
     "output_type": "execute_result"
    }
   ],
   "source": [
    "EllipticModular(P1=[15, 13], P2=None, cal_op='mul', mod=17, a=0, b=7)"
   ]
  },
  {
   "cell_type": "code",
   "execution_count": 118,
   "metadata": {},
   "outputs": [
    {
     "data": {
      "text/plain": [
       "(6, 6)"
      ]
     },
     "execution_count": 118,
     "metadata": {},
     "output_type": "execute_result"
    }
   ],
   "source": [
    "EllipticModular(P1=[15, 13], P2=[12, 1], cal_op='add', mod=17, a=0, b=7)"
   ]
  },
  {
   "cell_type": "code",
   "execution_count": null,
   "metadata": {},
   "outputs": [],
   "source": []
  }
 ],
 "metadata": {
  "kernelspec": {
   "display_name": "Python 3",
   "language": "python",
   "name": "python3"
  },
  "language_info": {
   "codemirror_mode": {
    "name": "ipython",
    "version": 3
   },
   "file_extension": ".py",
   "mimetype": "text/x-python",
   "name": "python",
   "nbconvert_exporter": "python",
   "pygments_lexer": "ipython3",
   "version": "3.8.3"
  }
 },
 "nbformat": 4,
 "nbformat_minor": 4
}
